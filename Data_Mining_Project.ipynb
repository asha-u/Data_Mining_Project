{
 "cells": [
  {
   "cell_type": "markdown",
   "id": "f8876d41",
   "metadata": {},
   "source": [
    "## Required Libraries"
   ]
  },
  {
   "cell_type": "code",
   "execution_count": 1,
   "id": "4bc8326a",
   "metadata": {},
   "outputs": [],
   "source": [
    "import pandas as pd\n",
    "import numpy as np\n",
    "import seaborn as sns\n",
    "from matplotlib import pyplot as plt\n",
    "import warnings\n",
    "warnings.filterwarnings('ignore')"
   ]
  },
  {
   "cell_type": "markdown",
   "id": "3ca922c0",
   "metadata": {},
   "source": [
    "#### The dataset is from the blood transfusion service center in Hsin-Chu city in Taiwan which contains the information of blood donors in the university. The service center drives to different universities in Hsin_Chu City to collect blood donated about every three months. The main objective of building a model is to predect whether or not the donor will donate the blood next time when the bus comes to the university. To build a RFMTC model, we selcted 748 donors at random from the donors database. each of these 748 donars include the below attributes\n",
    "#### R(recency - months since last donation)\n",
    "#### F(frequency - total number of donations)\n",
    "#### M(monetary - total blood donated in c.c.)\n",
    "#### T(time - months since first donation)\n",
    "#### binary variable represents whether he/she donated blood in March 2007(1 for donating blood, 0 for not donating blood)"
   ]
  },
  {
   "cell_type": "markdown",
   "id": "a3e88b78",
   "metadata": {},
   "source": [
    "## Loading the data"
   ]
  },
  {
   "cell_type": "code",
   "execution_count": 2,
   "id": "4f574543",
   "metadata": {},
   "outputs": [],
   "source": [
    "df = pd.read_csv('transfusion.data')"
   ]
  },
  {
   "cell_type": "code",
   "execution_count": 3,
   "id": "c5090259",
   "metadata": {},
   "outputs": [
    {
     "data": {
      "text/html": [
       "<div>\n",
       "<style scoped>\n",
       "    .dataframe tbody tr th:only-of-type {\n",
       "        vertical-align: middle;\n",
       "    }\n",
       "\n",
       "    .dataframe tbody tr th {\n",
       "        vertical-align: top;\n",
       "    }\n",
       "\n",
       "    .dataframe thead th {\n",
       "        text-align: right;\n",
       "    }\n",
       "</style>\n",
       "<table border=\"1\" class=\"dataframe\">\n",
       "  <thead>\n",
       "    <tr style=\"text-align: right;\">\n",
       "      <th></th>\n",
       "      <th>Recency (months)</th>\n",
       "      <th>Frequency (times)</th>\n",
       "      <th>Monetary (c.c. blood)</th>\n",
       "      <th>Time (months)</th>\n",
       "      <th>whether he/she donated blood in March 2007</th>\n",
       "    </tr>\n",
       "  </thead>\n",
       "  <tbody>\n",
       "    <tr>\n",
       "      <th>0</th>\n",
       "      <td>2</td>\n",
       "      <td>50</td>\n",
       "      <td>12500</td>\n",
       "      <td>98</td>\n",
       "      <td>1</td>\n",
       "    </tr>\n",
       "    <tr>\n",
       "      <th>1</th>\n",
       "      <td>0</td>\n",
       "      <td>13</td>\n",
       "      <td>3250</td>\n",
       "      <td>28</td>\n",
       "      <td>1</td>\n",
       "    </tr>\n",
       "    <tr>\n",
       "      <th>2</th>\n",
       "      <td>1</td>\n",
       "      <td>16</td>\n",
       "      <td>4000</td>\n",
       "      <td>35</td>\n",
       "      <td>1</td>\n",
       "    </tr>\n",
       "    <tr>\n",
       "      <th>3</th>\n",
       "      <td>2</td>\n",
       "      <td>20</td>\n",
       "      <td>5000</td>\n",
       "      <td>45</td>\n",
       "      <td>1</td>\n",
       "    </tr>\n",
       "    <tr>\n",
       "      <th>4</th>\n",
       "      <td>1</td>\n",
       "      <td>24</td>\n",
       "      <td>6000</td>\n",
       "      <td>77</td>\n",
       "      <td>0</td>\n",
       "    </tr>\n",
       "  </tbody>\n",
       "</table>\n",
       "</div>"
      ],
      "text/plain": [
       "   Recency (months)  Frequency (times)  Monetary (c.c. blood)  Time (months)  \\\n",
       "0                 2                 50                  12500             98   \n",
       "1                 0                 13                   3250             28   \n",
       "2                 1                 16                   4000             35   \n",
       "3                 2                 20                   5000             45   \n",
       "4                 1                 24                   6000             77   \n",
       "\n",
       "   whether he/she donated blood in March 2007  \n",
       "0                                           1  \n",
       "1                                           1  \n",
       "2                                           1  \n",
       "3                                           1  \n",
       "4                                           0  "
      ]
     },
     "execution_count": 3,
     "metadata": {},
     "output_type": "execute_result"
    }
   ],
   "source": [
    "df.head()"
   ]
  },
  {
   "cell_type": "code",
   "execution_count": 4,
   "id": "c72e5f04",
   "metadata": {},
   "outputs": [
    {
     "data": {
      "text/plain": [
       "748"
      ]
     },
     "execution_count": 4,
     "metadata": {},
     "output_type": "execute_result"
    }
   ],
   "source": [
    "len(df)"
   ]
  },
  {
   "cell_type": "code",
   "execution_count": 5,
   "id": "9e93db6f",
   "metadata": {},
   "outputs": [
    {
     "data": {
      "text/plain": [
       "(748, 5)"
      ]
     },
     "execution_count": 5,
     "metadata": {},
     "output_type": "execute_result"
    }
   ],
   "source": [
    "df.shape"
   ]
  },
  {
   "cell_type": "code",
   "execution_count": 6,
   "id": "332590d4",
   "metadata": {},
   "outputs": [
    {
     "data": {
      "text/plain": [
       "Recency (months)                              0\n",
       "Frequency (times)                             0\n",
       "Monetary (c.c. blood)                         0\n",
       "Time (months)                                 0\n",
       "whether he/she donated blood in March 2007    0\n",
       "dtype: int64"
      ]
     },
     "execution_count": 6,
     "metadata": {},
     "output_type": "execute_result"
    }
   ],
   "source": [
    "df.isnull().sum()"
   ]
  },
  {
   "cell_type": "code",
   "execution_count": 7,
   "id": "08d1ca0c",
   "metadata": {},
   "outputs": [
    {
     "data": {
      "text/plain": [
       "Recency (months)                              int64\n",
       "Frequency (times)                             int64\n",
       "Monetary (c.c. blood)                         int64\n",
       "Time (months)                                 int64\n",
       "whether he/she donated blood in March 2007    int64\n",
       "dtype: object"
      ]
     },
     "execution_count": 7,
     "metadata": {},
     "output_type": "execute_result"
    }
   ],
   "source": [
    "df.dtypes"
   ]
  },
  {
   "cell_type": "markdown",
   "id": "443e5179",
   "metadata": {},
   "source": [
    "## Rename "
   ]
  },
  {
   "cell_type": "code",
   "execution_count": 8,
   "id": "53a13803",
   "metadata": {},
   "outputs": [],
   "source": [
    "df.rename(columns={'whether he/she donated blood in March 2007':'target'}, inplace=True)\n",
    "df.columns = df.columns.str.lower()"
   ]
  },
  {
   "cell_type": "code",
   "execution_count": 9,
   "id": "89059eab",
   "metadata": {},
   "outputs": [
    {
     "data": {
      "text/html": [
       "<div>\n",
       "<style scoped>\n",
       "    .dataframe tbody tr th:only-of-type {\n",
       "        vertical-align: middle;\n",
       "    }\n",
       "\n",
       "    .dataframe tbody tr th {\n",
       "        vertical-align: top;\n",
       "    }\n",
       "\n",
       "    .dataframe thead th {\n",
       "        text-align: right;\n",
       "    }\n",
       "</style>\n",
       "<table border=\"1\" class=\"dataframe\">\n",
       "  <thead>\n",
       "    <tr style=\"text-align: right;\">\n",
       "      <th></th>\n",
       "      <th>recency (months)</th>\n",
       "      <th>frequency (times)</th>\n",
       "      <th>monetary (c.c. blood)</th>\n",
       "      <th>time (months)</th>\n",
       "      <th>target</th>\n",
       "    </tr>\n",
       "  </thead>\n",
       "  <tbody>\n",
       "    <tr>\n",
       "      <th>0</th>\n",
       "      <td>2</td>\n",
       "      <td>50</td>\n",
       "      <td>12500</td>\n",
       "      <td>98</td>\n",
       "      <td>1</td>\n",
       "    </tr>\n",
       "    <tr>\n",
       "      <th>1</th>\n",
       "      <td>0</td>\n",
       "      <td>13</td>\n",
       "      <td>3250</td>\n",
       "      <td>28</td>\n",
       "      <td>1</td>\n",
       "    </tr>\n",
       "    <tr>\n",
       "      <th>2</th>\n",
       "      <td>1</td>\n",
       "      <td>16</td>\n",
       "      <td>4000</td>\n",
       "      <td>35</td>\n",
       "      <td>1</td>\n",
       "    </tr>\n",
       "    <tr>\n",
       "      <th>3</th>\n",
       "      <td>2</td>\n",
       "      <td>20</td>\n",
       "      <td>5000</td>\n",
       "      <td>45</td>\n",
       "      <td>1</td>\n",
       "    </tr>\n",
       "    <tr>\n",
       "      <th>4</th>\n",
       "      <td>1</td>\n",
       "      <td>24</td>\n",
       "      <td>6000</td>\n",
       "      <td>77</td>\n",
       "      <td>0</td>\n",
       "    </tr>\n",
       "  </tbody>\n",
       "</table>\n",
       "</div>"
      ],
      "text/plain": [
       "   recency (months)  frequency (times)  monetary (c.c. blood)  time (months)  \\\n",
       "0                 2                 50                  12500             98   \n",
       "1                 0                 13                   3250             28   \n",
       "2                 1                 16                   4000             35   \n",
       "3                 2                 20                   5000             45   \n",
       "4                 1                 24                   6000             77   \n",
       "\n",
       "   target  \n",
       "0       1  \n",
       "1       1  \n",
       "2       1  \n",
       "3       1  \n",
       "4       0  "
      ]
     },
     "execution_count": 9,
     "metadata": {},
     "output_type": "execute_result"
    }
   ],
   "source": [
    "df.head()"
   ]
  },
  {
   "cell_type": "markdown",
   "id": "a78d93d3",
   "metadata": {},
   "source": [
    "# Checking for blood donations"
   ]
  },
  {
   "cell_type": "markdown",
   "id": "5baec0f1",
   "metadata": {},
   "source": [
    "#### To predict wheather the same donor will donate the blood next time when the bus comes to campus. The possible outcomes are binary values \n",
    " 0 - for not donating the blood  and 1 - for donating the blood\n"
   ]
  },
  {
   "cell_type": "code",
   "execution_count": 10,
   "id": "c9b6f07c",
   "metadata": {},
   "outputs": [
    {
     "name": "stdout",
     "output_type": "stream",
     "text": [
      "0    570\n",
      "1    178\n",
      "Name: target, dtype: int64\n",
      "whether he/she donated blood in March 2007:  [1 0]\n",
      "total number of donations in df: 2\n"
     ]
    },
    {
     "data": {
      "text/plain": [
       "<AxesSubplot:>"
      ]
     },
     "execution_count": 10,
     "metadata": {},
     "output_type": "execute_result"
    },
    {
     "data": {
      "image/png": "[encoded data removed]",
      "text/plain": [
       "<Figure size 432x288 with 1 Axes>"
      ]
     },
     "metadata": {
      "needs_background": "light"
     },
     "output_type": "display_data"
    }
   ],
   "source": [
    "print(df['target'].value_counts())\n",
    "print(\"whether he/she donated blood in March 2007: \", df.target.unique())\n",
    "print(\"total number of donations in df:\",len(df.target.unique()))\n",
    "df['target'].value_counts()[:20].plot(kind='bar')"
   ]
  },
  {
   "cell_type": "code",
   "execution_count": 11,
   "id": "36766d71",
   "metadata": {},
   "outputs": [
    {
     "data": {
      "text/plain": [
       "<AxesSubplot:xlabel='recency (months)', ylabel='count'>"
      ]
     },
     "execution_count": 11,
     "metadata": {},
     "output_type": "execute_result"
    },
    {
     "data": {
      "image/png": "[encoded data removed]",
      "text/plain": [
       "<Figure size 720x360 with 1 Axes>"
      ]
     },
     "metadata": {
      "needs_background": "light"
     },
     "output_type": "display_data"
    }
   ],
   "source": [
    "plt.figure(figsize=(10,5))\n",
    "sns.countplot(x='recency (months)', data=df)"
   ]
  },
  {
   "cell_type": "code",
   "execution_count": 12,
   "id": "c6a38d11",
   "metadata": {},
   "outputs": [
    {
     "data": {
      "text/plain": [
       "<AxesSubplot:xlabel='frequency (times)', ylabel='count'>"
      ]
     },
     "execution_count": 12,
     "metadata": {},
     "output_type": "execute_result"
    },
    {
     "data": {
      "image/png": "[encoded data removed]",
      "text/plain": [
       "<Figure size 720x360 with 1 Axes>"
      ]
     },
     "metadata": {
      "needs_background": "light"
     },
     "output_type": "display_data"
    }
   ],
   "source": [
    "plt.figure(figsize=(10,5))\n",
    "sns.countplot(x='frequency (times)', data=df)"
   ]
  },
  {
   "cell_type": "code",
   "execution_count": 13,
   "id": "a2a62c50",
   "metadata": {},
   "outputs": [
    {
     "data": {
      "text/plain": [
       "<AxesSubplot:xlabel='monetary (c.c. blood)', ylabel='count'>"
      ]
     },
     "execution_count": 13,
     "metadata": {},
     "output_type": "execute_result"
    },
    {
     "data": {
      "image/png": "[encoded data removed]",
      "text/plain": [
       "<Figure size 1440x360 with 1 Axes>"
      ]
     },
     "metadata": {
      "needs_background": "light"
     },
     "output_type": "display_data"
    }
   ],
   "source": [
    "plt.figure(figsize=(20,5))\n",
    "sns.countplot(x='monetary (c.c. blood)', data=df)"
   ]
  },
  {
   "cell_type": "code",
   "execution_count": 14,
   "id": "08840122",
   "metadata": {},
   "outputs": [
    {
     "data": {
      "text/plain": [
       "<AxesSubplot:xlabel='time (months)', ylabel='count'>"
      ]
     },
     "execution_count": 14,
     "metadata": {},
     "output_type": "execute_result"
    },
    {
     "data": {
      "image/png": "[encoded data removed]",
      "text/plain": [
       "<Figure size 1440x360 with 1 Axes>"
      ]
     },
     "metadata": {
      "needs_background": "light"
     },
     "output_type": "display_data"
    }
   ],
   "source": [
    "plt.figure(figsize=(20,5))\n",
    "sns.countplot(x='time (months)', data=df)"
   ]
  },
  {
   "cell_type": "code",
   "execution_count": 15,
   "id": "eeb62ee6",
   "metadata": {},
   "outputs": [
    {
     "data": {
      "text/html": [
       "<div>\n",
       "<style scoped>\n",
       "    .dataframe tbody tr th:only-of-type {\n",
       "        vertical-align: middle;\n",
       "    }\n",
       "\n",
       "    .dataframe tbody tr th {\n",
       "        vertical-align: top;\n",
       "    }\n",
       "\n",
       "    .dataframe thead th {\n",
       "        text-align: right;\n",
       "    }\n",
       "</style>\n",
       "<table border=\"1\" class=\"dataframe\">\n",
       "  <thead>\n",
       "    <tr style=\"text-align: right;\">\n",
       "      <th></th>\n",
       "      <th>recency (months)</th>\n",
       "      <th>frequency (times)</th>\n",
       "      <th>monetary (c.c. blood)</th>\n",
       "      <th>time (months)</th>\n",
       "      <th>target</th>\n",
       "    </tr>\n",
       "  </thead>\n",
       "  <tbody>\n",
       "    <tr>\n",
       "      <th>count</th>\n",
       "      <td>748.000000</td>\n",
       "      <td>748.000000</td>\n",
       "      <td>748.000000</td>\n",
       "      <td>748.000000</td>\n",
       "      <td>748.000000</td>\n",
       "    </tr>\n",
       "    <tr>\n",
       "      <th>mean</th>\n",
       "      <td>9.506684</td>\n",
       "      <td>5.514706</td>\n",
       "      <td>1378.676471</td>\n",
       "      <td>34.282086</td>\n",
       "      <td>0.237968</td>\n",
       "    </tr>\n",
       "    <tr>\n",
       "      <th>std</th>\n",
       "      <td>8.095396</td>\n",
       "      <td>5.839307</td>\n",
       "      <td>1459.826781</td>\n",
       "      <td>24.376714</td>\n",
       "      <td>0.426124</td>\n",
       "    </tr>\n",
       "    <tr>\n",
       "      <th>min</th>\n",
       "      <td>0.000000</td>\n",
       "      <td>1.000000</td>\n",
       "      <td>250.000000</td>\n",
       "      <td>2.000000</td>\n",
       "      <td>0.000000</td>\n",
       "    </tr>\n",
       "    <tr>\n",
       "      <th>25%</th>\n",
       "      <td>2.750000</td>\n",
       "      <td>2.000000</td>\n",
       "      <td>500.000000</td>\n",
       "      <td>16.000000</td>\n",
       "      <td>0.000000</td>\n",
       "    </tr>\n",
       "    <tr>\n",
       "      <th>50%</th>\n",
       "      <td>7.000000</td>\n",
       "      <td>4.000000</td>\n",
       "      <td>1000.000000</td>\n",
       "      <td>28.000000</td>\n",
       "      <td>0.000000</td>\n",
       "    </tr>\n",
       "    <tr>\n",
       "      <th>75%</th>\n",
       "      <td>14.000000</td>\n",
       "      <td>7.000000</td>\n",
       "      <td>1750.000000</td>\n",
       "      <td>50.000000</td>\n",
       "      <td>0.000000</td>\n",
       "    </tr>\n",
       "    <tr>\n",
       "      <th>max</th>\n",
       "      <td>74.000000</td>\n",
       "      <td>50.000000</td>\n",
       "      <td>12500.000000</td>\n",
       "      <td>98.000000</td>\n",
       "      <td>1.000000</td>\n",
       "    </tr>\n",
       "  </tbody>\n",
       "</table>\n",
       "</div>"
      ],
      "text/plain": [
       "       recency (months)  frequency (times)  monetary (c.c. blood)  \\\n",
       "count        748.000000         748.000000             748.000000   \n",
       "mean           9.506684           5.514706            1378.676471   \n",
       "std            8.095396           5.839307            1459.826781   \n",
       "min            0.000000           1.000000             250.000000   \n",
       "25%            2.750000           2.000000             500.000000   \n",
       "50%            7.000000           4.000000            1000.000000   \n",
       "75%           14.000000           7.000000            1750.000000   \n",
       "max           74.000000          50.000000           12500.000000   \n",
       "\n",
       "       time (months)      target  \n",
       "count     748.000000  748.000000  \n",
       "mean       34.282086    0.237968  \n",
       "std        24.376714    0.426124  \n",
       "min         2.000000    0.000000  \n",
       "25%        16.000000    0.000000  \n",
       "50%        28.000000    0.000000  \n",
       "75%        50.000000    0.000000  \n",
       "max        98.000000    1.000000  "
      ]
     },
     "execution_count": 15,
     "metadata": {},
     "output_type": "execute_result"
    }
   ],
   "source": [
    "df.describe()"
   ]
  },
  {
   "cell_type": "code",
   "execution_count": 16,
   "id": "1dcf2386",
   "metadata": {},
   "outputs": [
    {
     "data": {
      "text/plain": [
       "0    0.762032\n",
       "1    0.237968\n",
       "Name: target, dtype: float64"
      ]
     },
     "execution_count": 16,
     "metadata": {},
     "output_type": "execute_result"
    }
   ],
   "source": [
    "df['target'].value_counts(normalize= True)"
   ]
  },
  {
   "cell_type": "markdown",
   "id": "62a8f6c7",
   "metadata": {},
   "source": [
    "Seeing the above values for donated and not donated, a classifier which predicts not donated target always would achieve an accuracy of 76% of good classification without using any information from the data itself. this problem is called as class imbalance"
   ]
  },
  {
   "cell_type": "code",
   "execution_count": 17,
   "id": "64a36d9e",
   "metadata": {},
   "outputs": [
    {
     "data": {
      "text/plain": [
       "<AxesSubplot:ylabel='target'>"
      ]
     },
     "execution_count": 17,
     "metadata": {},
     "output_type": "execute_result"
    },
    {
     "data": {
      "image/png": "[encoded data removed]",
      "text/plain": [
       "<Figure size 432x288 with 1 Axes>"
      ]
     },
     "metadata": {},
     "output_type": "display_data"
    }
   ],
   "source": [
    "df['target'].value_counts()[:20].plot(kind='pie')"
   ]
  },
  {
   "cell_type": "code",
   "execution_count": 18,
   "id": "4dda53cb",
   "metadata": {},
   "outputs": [
    {
     "data": {
      "image/png": "[encoded data removed]",
      "text/plain": [
       "<Figure size 402.375x360 with 1 Axes>"
      ]
     },
     "metadata": {
      "needs_background": "light"
     },
     "output_type": "display_data"
    }
   ],
   "source": [
    "#From the below graph we can say that the peak corresponding to the people who donated recently (1-2 months) \n",
    "#will likely to donate blood\n",
    "sns.FacetGrid(df, hue='target', height=5).map(sns.distplot,'recency (months)').add_legend()\n",
    "plt.show()"
   ]
  },
  {
   "cell_type": "code",
   "execution_count": 19,
   "id": "0ce8fe0e",
   "metadata": {},
   "outputs": [
    {
     "data": {
      "image/png": "[encoded data removed]",
      "text/plain": [
       "<Figure size 402.375x360 with 1 Axes>"
      ]
     },
     "metadata": {
      "needs_background": "light"
     },
     "output_type": "display_data"
    }
   ],
   "source": [
    "#There is peak corresponding to the people who donated only 0-1 times will less likely \n",
    "#to donate than the people who danated 2-3 times\n",
    "# people with more number of blood donations will donate the blood\n",
    "sns.FacetGrid(df, hue='target', height=5).map(sns.distplot,'frequency (times)').add_legend()\n",
    "plt.show()"
   ]
  },
  {
   "cell_type": "code",
   "execution_count": 20,
   "id": "84aa5d6b",
   "metadata": {
    "scrolled": false
   },
   "outputs": [
    {
     "data": {
      "image/png": "[encoded data removed]",
      "text/plain": [
       "<Figure size 402.375x360 with 1 Axes>"
      ]
     },
     "metadata": {
      "needs_background": "light"
     },
     "output_type": "display_data"
    }
   ],
   "source": [
    "# the peak corresponds to the people who donated more than 5 times\n",
    "sns.FacetGrid(df, hue='target', height=5).map(sns.distplot,'monetary (c.c. blood)').add_legend()\n",
    "plt.show()"
   ]
  },
  {
   "cell_type": "code",
   "execution_count": 21,
   "id": "93bbf46a",
   "metadata": {},
   "outputs": [
    {
     "data": {
      "image/png": "[encoded data removed]",
      "text/plain": [
       "<Figure size 402.375x360 with 1 Axes>"
      ]
     },
     "metadata": {
      "needs_background": "light"
     },
     "output_type": "display_data"
    }
   ],
   "source": [
    "#there is a peak corresponding to the people who donated recently(6-20 months)will not donate\n",
    "sns.FacetGrid(df, hue='target', height=5).map(sns.distplot,'time (months)').add_legend()\n",
    "plt.show()"
   ]
  },
  {
   "cell_type": "code",
   "execution_count": 22,
   "id": "ab7bfa6e",
   "metadata": {
    "scrolled": false
   },
   "outputs": [
    {
     "data": {
      "text/plain": [
       "<seaborn.axisgrid.PairGrid at 0x7fb0b18f6a00>"
      ]
     },
     "execution_count": 22,
     "metadata": {},
     "output_type": "execute_result"
    },
    {
     "data": {
      "image/png": "[encoded data removed]",
      "text/plain": [
       "<Figure size 762.375x720 with 20 Axes>"
      ]
     },
     "metadata": {
      "needs_background": "light"
     },
     "output_type": "display_data"
    }
   ],
   "source": [
    "sns.pairplot(df, hue=\"target\")"
   ]
  },
  {
   "cell_type": "markdown",
   "id": "349376db",
   "metadata": {},
   "source": [
    "From the diagonal plots, we don't see any features that individually could help at separating the two targets and there is no striking combinations when we look at a pair of features. But, the Monetary and frequency features are perfectly correlated that is data points are aligned diagonally.\n",
    "From this we can notice that the data set suffers from target imbalance and correlated features."
   ]
  },
  {
   "cell_type": "code",
   "execution_count": 23,
   "id": "90346120",
   "metadata": {},
   "outputs": [
    {
     "data": {
      "text/plain": [
       "<AxesSubplot:>"
      ]
     },
     "execution_count": 23,
     "metadata": {},
     "output_type": "execute_result"
    },
    {
     "data": {
      "image/png": "[encoded data removed]",
      "text/plain": [
       "<Figure size 432x288 with 2 Axes>"
      ]
     },
     "metadata": {
      "needs_background": "light"
     },
     "output_type": "display_data"
    }
   ],
   "source": [
    "sns.heatmap(df.corr(), annot=True)"
   ]
  },
  {
   "cell_type": "code",
   "execution_count": 24,
   "id": "086cb52f",
   "metadata": {},
   "outputs": [
    {
     "data": {
      "text/html": [
       "<div>\n",
       "<style scoped>\n",
       "    .dataframe tbody tr th:only-of-type {\n",
       "        vertical-align: middle;\n",
       "    }\n",
       "\n",
       "    .dataframe tbody tr th {\n",
       "        vertical-align: top;\n",
       "    }\n",
       "\n",
       "    .dataframe thead th {\n",
       "        text-align: right;\n",
       "    }\n",
       "</style>\n",
       "<table border=\"1\" class=\"dataframe\">\n",
       "  <thead>\n",
       "    <tr style=\"text-align: right;\">\n",
       "      <th></th>\n",
       "      <th></th>\n",
       "      <th>recency (months)</th>\n",
       "      <th>frequency (times)</th>\n",
       "      <th>monetary (c.c. blood)</th>\n",
       "      <th>time (months)</th>\n",
       "    </tr>\n",
       "    <tr>\n",
       "      <th>target</th>\n",
       "      <th></th>\n",
       "      <th></th>\n",
       "      <th></th>\n",
       "      <th></th>\n",
       "      <th></th>\n",
       "    </tr>\n",
       "  </thead>\n",
       "  <tbody>\n",
       "    <tr>\n",
       "      <th rowspan=\"4\" valign=\"top\">0</th>\n",
       "      <th>recency (months)</th>\n",
       "      <td>1.000000</td>\n",
       "      <td>-0.126862</td>\n",
       "      <td>-0.126862</td>\n",
       "      <td>0.175247</td>\n",
       "    </tr>\n",
       "    <tr>\n",
       "      <th>frequency (times)</th>\n",
       "      <td>-0.126862</td>\n",
       "      <td>1.000000</td>\n",
       "      <td>1.000000</td>\n",
       "      <td>0.654033</td>\n",
       "    </tr>\n",
       "    <tr>\n",
       "      <th>monetary (c.c. blood)</th>\n",
       "      <td>-0.126862</td>\n",
       "      <td>1.000000</td>\n",
       "      <td>1.000000</td>\n",
       "      <td>0.654033</td>\n",
       "    </tr>\n",
       "    <tr>\n",
       "      <th>time (months)</th>\n",
       "      <td>0.175247</td>\n",
       "      <td>0.654033</td>\n",
       "      <td>0.654033</td>\n",
       "      <td>1.000000</td>\n",
       "    </tr>\n",
       "    <tr>\n",
       "      <th rowspan=\"4\" valign=\"top\">1</th>\n",
       "      <th>recency (months)</th>\n",
       "      <td>1.000000</td>\n",
       "      <td>-0.191101</td>\n",
       "      <td>-0.191101</td>\n",
       "      <td>0.070599</td>\n",
       "    </tr>\n",
       "    <tr>\n",
       "      <th>frequency (times)</th>\n",
       "      <td>-0.191101</td>\n",
       "      <td>1.000000</td>\n",
       "      <td>1.000000</td>\n",
       "      <td>0.740233</td>\n",
       "    </tr>\n",
       "    <tr>\n",
       "      <th>monetary (c.c. blood)</th>\n",
       "      <td>-0.191101</td>\n",
       "      <td>1.000000</td>\n",
       "      <td>1.000000</td>\n",
       "      <td>0.740233</td>\n",
       "    </tr>\n",
       "    <tr>\n",
       "      <th>time (months)</th>\n",
       "      <td>0.070599</td>\n",
       "      <td>0.740233</td>\n",
       "      <td>0.740233</td>\n",
       "      <td>1.000000</td>\n",
       "    </tr>\n",
       "  </tbody>\n",
       "</table>\n",
       "</div>"
      ],
      "text/plain": [
       "                              recency (months)  frequency (times)  \\\n",
       "target                                                              \n",
       "0      recency (months)               1.000000          -0.126862   \n",
       "       frequency (times)             -0.126862           1.000000   \n",
       "       monetary (c.c. blood)         -0.126862           1.000000   \n",
       "       time (months)                  0.175247           0.654033   \n",
       "1      recency (months)               1.000000          -0.191101   \n",
       "       frequency (times)             -0.191101           1.000000   \n",
       "       monetary (c.c. blood)         -0.191101           1.000000   \n",
       "       time (months)                  0.070599           0.740233   \n",
       "\n",
       "                              monetary (c.c. blood)  time (months)  \n",
       "target                                                              \n",
       "0      recency (months)                   -0.126862       0.175247  \n",
       "       frequency (times)                   1.000000       0.654033  \n",
       "       monetary (c.c. blood)               1.000000       0.654033  \n",
       "       time (months)                       0.654033       1.000000  \n",
       "1      recency (months)                   -0.191101       0.070599  \n",
       "       frequency (times)                   1.000000       0.740233  \n",
       "       monetary (c.c. blood)               1.000000       0.740233  \n",
       "       time (months)                       0.740233       1.000000  "
      ]
     },
     "execution_count": 24,
     "metadata": {},
     "output_type": "execute_result"
    }
   ],
   "source": [
    "res = df.groupby(\"target\").corr()\n",
    "res"
   ]
  },
  {
   "cell_type": "code",
   "execution_count": 25,
   "id": "215fea05",
   "metadata": {},
   "outputs": [
    {
     "data": {
      "text/plain": [
       "<AxesSubplot:ylabel='target-None'>"
      ]
     },
     "execution_count": 25,
     "metadata": {},
     "output_type": "execute_result"
    },
    {
     "data": {
      "image/png": "[encoded data removed]",
      "text/plain": [
       "<Figure size 432x288 with 2 Axes>"
      ]
     },
     "metadata": {
      "needs_background": "light"
     },
     "output_type": "display_data"
    }
   ],
   "source": [
    "sns.heatmap(res, annot=True)"
   ]
  },
  {
   "cell_type": "markdown",
   "id": "fe42bfdc",
   "metadata": {},
   "source": [
    "#### here we can see that the frequency and monetary are correlated well, that is the donors donate a certain amount of blood for each donation"
   ]
  },
  {
   "cell_type": "code",
   "execution_count": 26,
   "id": "b060d624",
   "metadata": {},
   "outputs": [
    {
     "data": {
      "text/plain": [
       "0      250.0\n",
       "1      250.0\n",
       "2      250.0\n",
       "3      250.0\n",
       "4      250.0\n",
       "       ...  \n",
       "743    250.0\n",
       "744    250.0\n",
       "745    250.0\n",
       "746    250.0\n",
       "747    250.0\n",
       "Name: each_time_doantion, Length: 748, dtype: float64"
      ]
     },
     "execution_count": 26,
     "metadata": {},
     "output_type": "execute_result"
    }
   ],
   "source": [
    "df['each_time_doantion'] = (df['monetary (c.c. blood)']/df['frequency (times)'])\n",
    "df['each_time_doantion']"
   ]
  },
  {
   "cell_type": "code",
   "execution_count": 27,
   "id": "27dc4284",
   "metadata": {},
   "outputs": [
    {
     "data": {
      "image/png": "[encoded data removed]",
      "text/plain": [
       "<Figure size 432x288 with 1 Axes>"
      ]
     },
     "metadata": {
      "needs_background": "light"
     },
     "output_type": "display_data"
    }
   ],
   "source": [
    "sns.histplot(data=df, y='each_time_doantion', hue='target')\n",
    "plt.show()"
   ]
  },
  {
   "cell_type": "code",
   "execution_count": 28,
   "id": "e409688e",
   "metadata": {},
   "outputs": [
    {
     "data": {
      "text/html": [
       "<div>\n",
       "<style scoped>\n",
       "    .dataframe tbody tr th:only-of-type {\n",
       "        vertical-align: middle;\n",
       "    }\n",
       "\n",
       "    .dataframe tbody tr th {\n",
       "        vertical-align: top;\n",
       "    }\n",
       "\n",
       "    .dataframe thead th {\n",
       "        text-align: right;\n",
       "    }\n",
       "</style>\n",
       "<table border=\"1\" class=\"dataframe\">\n",
       "  <thead>\n",
       "    <tr style=\"text-align: right;\">\n",
       "      <th></th>\n",
       "      <th>recency (months)</th>\n",
       "      <th>target</th>\n",
       "      <th>waiting period</th>\n",
       "    </tr>\n",
       "  </thead>\n",
       "  <tbody>\n",
       "    <tr>\n",
       "      <th>0</th>\n",
       "      <td>2</td>\n",
       "      <td>1</td>\n",
       "      <td>1.920000</td>\n",
       "    </tr>\n",
       "    <tr>\n",
       "      <th>1</th>\n",
       "      <td>0</td>\n",
       "      <td>1</td>\n",
       "      <td>2.153846</td>\n",
       "    </tr>\n",
       "    <tr>\n",
       "      <th>2</th>\n",
       "      <td>1</td>\n",
       "      <td>1</td>\n",
       "      <td>2.125000</td>\n",
       "    </tr>\n",
       "    <tr>\n",
       "      <th>3</th>\n",
       "      <td>2</td>\n",
       "      <td>1</td>\n",
       "      <td>2.150000</td>\n",
       "    </tr>\n",
       "    <tr>\n",
       "      <th>4</th>\n",
       "      <td>1</td>\n",
       "      <td>0</td>\n",
       "      <td>3.166667</td>\n",
       "    </tr>\n",
       "    <tr>\n",
       "      <th>5</th>\n",
       "      <td>4</td>\n",
       "      <td>0</td>\n",
       "      <td>0.000000</td>\n",
       "    </tr>\n",
       "    <tr>\n",
       "      <th>6</th>\n",
       "      <td>2</td>\n",
       "      <td>1</td>\n",
       "      <td>1.714286</td>\n",
       "    </tr>\n",
       "    <tr>\n",
       "      <th>7</th>\n",
       "      <td>1</td>\n",
       "      <td>0</td>\n",
       "      <td>2.833333</td>\n",
       "    </tr>\n",
       "    <tr>\n",
       "      <th>8</th>\n",
       "      <td>2</td>\n",
       "      <td>1</td>\n",
       "      <td>2.222222</td>\n",
       "    </tr>\n",
       "    <tr>\n",
       "      <th>9</th>\n",
       "      <td>5</td>\n",
       "      <td>1</td>\n",
       "      <td>2.021739</td>\n",
       "    </tr>\n",
       "  </tbody>\n",
       "</table>\n",
       "</div>"
      ],
      "text/plain": [
       "   recency (months)  target  waiting period\n",
       "0                 2       1        1.920000\n",
       "1                 0       1        2.153846\n",
       "2                 1       1        2.125000\n",
       "3                 2       1        2.150000\n",
       "4                 1       0        3.166667\n",
       "5                 4       0        0.000000\n",
       "6                 2       1        1.714286\n",
       "7                 1       0        2.833333\n",
       "8                 2       1        2.222222\n",
       "9                 5       1        2.021739"
      ]
     },
     "execution_count": 28,
     "metadata": {},
     "output_type": "execute_result"
    }
   ],
   "source": [
    "df['waiting period'] = ((df['time (months)'] - df['recency (months)'])/df['frequency (times)'])\n",
    "df[['recency (months)','target','waiting period']].head(10)"
   ]
  },
  {
   "cell_type": "code",
   "execution_count": 29,
   "id": "c6ca715e",
   "metadata": {},
   "outputs": [
    {
     "data": {
      "text/html": [
       "<div>\n",
       "<style scoped>\n",
       "    .dataframe tbody tr th:only-of-type {\n",
       "        vertical-align: middle;\n",
       "    }\n",
       "\n",
       "    .dataframe tbody tr th {\n",
       "        vertical-align: top;\n",
       "    }\n",
       "\n",
       "    .dataframe thead th {\n",
       "        text-align: right;\n",
       "    }\n",
       "</style>\n",
       "<table border=\"1\" class=\"dataframe\">\n",
       "  <thead>\n",
       "    <tr style=\"text-align: right;\">\n",
       "      <th></th>\n",
       "      <th>recency (months)</th>\n",
       "      <th>target</th>\n",
       "      <th>waiting period</th>\n",
       "    </tr>\n",
       "  </thead>\n",
       "  <tbody>\n",
       "    <tr>\n",
       "      <th>738</th>\n",
       "      <td>23</td>\n",
       "      <td>0</td>\n",
       "      <td>0.000000</td>\n",
       "    </tr>\n",
       "    <tr>\n",
       "      <th>739</th>\n",
       "      <td>23</td>\n",
       "      <td>0</td>\n",
       "      <td>7.250000</td>\n",
       "    </tr>\n",
       "    <tr>\n",
       "      <th>740</th>\n",
       "      <td>23</td>\n",
       "      <td>0</td>\n",
       "      <td>0.000000</td>\n",
       "    </tr>\n",
       "    <tr>\n",
       "      <th>741</th>\n",
       "      <td>23</td>\n",
       "      <td>0</td>\n",
       "      <td>9.285714</td>\n",
       "    </tr>\n",
       "    <tr>\n",
       "      <th>742</th>\n",
       "      <td>16</td>\n",
       "      <td>0</td>\n",
       "      <td>23.333333</td>\n",
       "    </tr>\n",
       "    <tr>\n",
       "      <th>743</th>\n",
       "      <td>23</td>\n",
       "      <td>0</td>\n",
       "      <td>7.500000</td>\n",
       "    </tr>\n",
       "    <tr>\n",
       "      <th>744</th>\n",
       "      <td>21</td>\n",
       "      <td>0</td>\n",
       "      <td>15.500000</td>\n",
       "    </tr>\n",
       "    <tr>\n",
       "      <th>745</th>\n",
       "      <td>23</td>\n",
       "      <td>0</td>\n",
       "      <td>13.000000</td>\n",
       "    </tr>\n",
       "    <tr>\n",
       "      <th>746</th>\n",
       "      <td>39</td>\n",
       "      <td>0</td>\n",
       "      <td>0.000000</td>\n",
       "    </tr>\n",
       "    <tr>\n",
       "      <th>747</th>\n",
       "      <td>72</td>\n",
       "      <td>0</td>\n",
       "      <td>0.000000</td>\n",
       "    </tr>\n",
       "  </tbody>\n",
       "</table>\n",
       "</div>"
      ],
      "text/plain": [
       "     recency (months)  target  waiting period\n",
       "738                23       0        0.000000\n",
       "739                23       0        7.250000\n",
       "740                23       0        0.000000\n",
       "741                23       0        9.285714\n",
       "742                16       0       23.333333\n",
       "743                23       0        7.500000\n",
       "744                21       0       15.500000\n",
       "745                23       0       13.000000\n",
       "746                39       0        0.000000\n",
       "747                72       0        0.000000"
      ]
     },
     "execution_count": 29,
     "metadata": {},
     "output_type": "execute_result"
    }
   ],
   "source": [
    "df[['recency (months)','target','waiting period']].tail(10)"
   ]
  },
  {
   "cell_type": "code",
   "execution_count": 30,
   "id": "e429badf",
   "metadata": {},
   "outputs": [
    {
     "data": {
      "image/png": "[encoded data removed]",
      "text/plain": [
       "<Figure size 432x288 with 1 Axes>"
      ]
     },
     "metadata": {
      "needs_background": "light"
     },
     "output_type": "display_data"
    }
   ],
   "source": [
    "#sns.FacetGrid(df, hue='target', height=5).map(sns.distplot,'waiting period').add_legend()\n",
    "sns.histplot(data=df, x='waiting period', hue='target')\n",
    "plt.show()"
   ]
  },
  {
   "cell_type": "markdown",
   "id": "754e440d",
   "metadata": {},
   "source": [
    "#### from the above figure it is clear that those who donate blood frequently are much more likely to donate blood than others. donars with waiting period less than 2 months are more likely to donate blood than others and one time donors whose waiting period is 0 because they do not donate blood after their first time."
   ]
  },
  {
   "cell_type": "code",
   "execution_count": 31,
   "id": "7d2ae1e7",
   "metadata": {},
   "outputs": [
    {
     "data": {
      "text/plain": [
       "0    570\n",
       "1    178\n",
       "Name: target, dtype: int64"
      ]
     },
     "execution_count": 31,
     "metadata": {},
     "output_type": "execute_result"
    }
   ],
   "source": [
    "df['target'].value_counts()"
   ]
  },
  {
   "cell_type": "markdown",
   "id": "fc82e234",
   "metadata": {},
   "source": [
    "## Before Resampling"
   ]
  },
  {
   "cell_type": "code",
   "execution_count": 32,
   "id": "1056a355",
   "metadata": {},
   "outputs": [],
   "source": [
    "from sklearn.model_selection import train_test_split\n",
    "\n",
    "train,test = train_test_split(df, test_size = 0.2, random_state=42)\n",
    "train_x=train[['recency (months)','frequency (times)','monetary (c.c. blood)','time (months)']]\n",
    "train_y=train.target\n",
    "test_x=test[['recency (months)','frequency (times)','monetary (c.c. blood)','time (months)']]\n",
    "test_y=test.target"
   ]
  },
  {
   "cell_type": "code",
   "execution_count": 33,
   "id": "00191ac4",
   "metadata": {},
   "outputs": [],
   "source": [
    "from sklearn.linear_model import LogisticRegression\n",
    "from sklearn.tree import DecisionTreeClassifier\n",
    "from sklearn.neighbors import KNeighborsClassifier\n",
    "from sklearn.ensemble import RandomForestClassifier\n",
    "from sklearn import svm\n",
    "from sklearn import metrics"
   ]
  },
  {
   "cell_type": "code",
   "execution_count": 34,
   "id": "17fa5787",
   "metadata": {},
   "outputs": [
    {
     "name": "stdout",
     "output_type": "stream",
     "text": [
      "\n",
      "Accuracy: 0.76\n"
     ]
    }
   ],
   "source": [
    "lr = LogisticRegression()\n",
    "lr.fit(train_x,train_y)\n",
    "prediction = lr.predict(test_x)\n",
    "print(f'\\nAccuracy: {metrics.accuracy_score(prediction,test_y):.2f}')"
   ]
  },
  {
   "cell_type": "code",
   "execution_count": 35,
   "id": "9500d8c6",
   "metadata": {},
   "outputs": [
    {
     "name": "stdout",
     "output_type": "stream",
     "text": [
      "\n",
      "Accuracy: 0.77\n"
     ]
    }
   ],
   "source": [
    "kn = KNeighborsClassifier(n_neighbors=5)\n",
    "kn.fit(train_x,train_y)\n",
    "y_pred2 = kn.predict(test_x)\n",
    "print(f'\\nAccuracy: {metrics.accuracy_score(test_y,y_pred2):.2f}')"
   ]
  },
  {
   "cell_type": "code",
   "execution_count": 36,
   "id": "ce869bfe",
   "metadata": {},
   "outputs": [
    {
     "name": "stdout",
     "output_type": "stream",
     "text": [
      "\n",
      "Accuracy: 0.66\n"
     ]
    }
   ],
   "source": [
    "dt = DecisionTreeClassifier()\n",
    "dt.fit(train_x,train_y)\n",
    "y_pred3 = dt.predict(test_x)\n",
    "\n",
    "print(f'\\nAccuracy: {metrics.accuracy_score(test_y,y_pred3):.2f}')"
   ]
  },
  {
   "cell_type": "code",
   "execution_count": 37,
   "id": "0365f0ff",
   "metadata": {},
   "outputs": [
    {
     "name": "stdout",
     "output_type": "stream",
     "text": [
      "\n",
      "Accuracy: 0.73\n"
     ]
    }
   ],
   "source": [
    "rf = RandomForestClassifier(n_estimators=5, random_state=7)\n",
    "rf.fit(train_x,train_y)\n",
    "y_pred4 = rf.predict(test_x)\n",
    "print(f'\\nAccuracy: {metrics.accuracy_score(test_y, y_pred4):.2f}')"
   ]
  },
  {
   "cell_type": "markdown",
   "id": "a3e0f223",
   "metadata": {},
   "source": [
    "## Resampling"
   ]
  },
  {
   "cell_type": "markdown",
   "id": "b1fb26e6",
   "metadata": {},
   "source": [
    "#### The technique used to deal with imbalanced dataset. Here i have taken two types , removing samples from the majority class(under sampling) and adding more samples to the minority class(over sampling)\n",
    "#### Here under sampling is used"
   ]
  },
  {
   "cell_type": "code",
   "execution_count": 32,
   "id": "bc898f9e",
   "metadata": {},
   "outputs": [
    {
     "name": "stdout",
     "output_type": "stream",
     "text": [
      "0    178\n",
      "1    178\n",
      "Name: target, dtype: int64\n"
     ]
    },
    {
     "data": {
      "text/plain": [
       "<AxesSubplot:>"
      ]
     },
     "execution_count": 32,
     "metadata": {},
     "output_type": "execute_result"
    },
    {
     "data": {
      "image/png": "[encoded data removed]",
      "text/plain": [
       "<Figure size 432x288 with 1 Axes>"
      ]
     },
     "metadata": {
      "needs_background": "light"
     },
     "output_type": "display_data"
    }
   ],
   "source": [
    "from sklearn.utils import resample\n",
    "\n",
    "df_majority = df[df.target==1]\n",
    "df_minority = df[df.target==0]\n",
    "\n",
    "# upsample minority class\n",
    "df_minority_upsampled = resample(df_minority, replace=True, n_samples=178, random_state=42)\n",
    "\n",
    "# combine majority class with upsampled minority class\n",
    "df = pd.concat([df_majority, df_minority_upsampled])\n",
    "\n",
    "# shuffle the dataset to prevent getting similar samples\n",
    "df = df.sample(frac=1, random_state=0)\n",
    "\n",
    "print(df.target.value_counts())\n",
    "df.target.value_counts().plot(kind='bar')"
   ]
  },
  {
   "cell_type": "markdown",
   "id": "72f1a32a",
   "metadata": {},
   "source": [
    "Splitting the dataset into train and test dataset"
   ]
  },
  {
   "cell_type": "code",
   "execution_count": 33,
   "id": "d7fb2f21",
   "metadata": {},
   "outputs": [],
   "source": [
    "from sklearn.model_selection import train_test_split"
   ]
  },
  {
   "cell_type": "code",
   "execution_count": 34,
   "id": "09644368",
   "metadata": {},
   "outputs": [],
   "source": [
    "train,test = train_test_split(df, test_size = 0.2, random_state=42)\n",
    "train_x=train[['recency (months)','frequency (times)','monetary (c.c. blood)','time (months)']]\n",
    "train_y=train.target\n",
    "test_x=test[['recency (months)','frequency (times)','monetary (c.c. blood)','time (months)']]\n",
    "test_y=test.target"
   ]
  },
  {
   "cell_type": "code",
   "execution_count": 35,
   "id": "601f4ac4",
   "metadata": {},
   "outputs": [
    {
     "data": {
      "text/html": [
       "<div>\n",
       "<style scoped>\n",
       "    .dataframe tbody tr th:only-of-type {\n",
       "        vertical-align: middle;\n",
       "    }\n",
       "\n",
       "    .dataframe tbody tr th {\n",
       "        vertical-align: top;\n",
       "    }\n",
       "\n",
       "    .dataframe thead th {\n",
       "        text-align: right;\n",
       "    }\n",
       "</style>\n",
       "<table border=\"1\" class=\"dataframe\">\n",
       "  <thead>\n",
       "    <tr style=\"text-align: right;\">\n",
       "      <th></th>\n",
       "      <th>recency (months)</th>\n",
       "      <th>frequency (times)</th>\n",
       "      <th>monetary (c.c. blood)</th>\n",
       "      <th>time (months)</th>\n",
       "    </tr>\n",
       "  </thead>\n",
       "  <tbody>\n",
       "    <tr>\n",
       "      <th>554</th>\n",
       "      <td>2</td>\n",
       "      <td>4</td>\n",
       "      <td>1000</td>\n",
       "      <td>23</td>\n",
       "    </tr>\n",
       "    <tr>\n",
       "      <th>176</th>\n",
       "      <td>11</td>\n",
       "      <td>4</td>\n",
       "      <td>1000</td>\n",
       "      <td>16</td>\n",
       "    </tr>\n",
       "    <tr>\n",
       "      <th>581</th>\n",
       "      <td>2</td>\n",
       "      <td>1</td>\n",
       "      <td>250</td>\n",
       "      <td>2</td>\n",
       "    </tr>\n",
       "    <tr>\n",
       "      <th>537</th>\n",
       "      <td>2</td>\n",
       "      <td>6</td>\n",
       "      <td>1500</td>\n",
       "      <td>26</td>\n",
       "    </tr>\n",
       "    <tr>\n",
       "      <th>695</th>\n",
       "      <td>17</td>\n",
       "      <td>7</td>\n",
       "      <td>1750</td>\n",
       "      <td>58</td>\n",
       "    </tr>\n",
       "  </tbody>\n",
       "</table>\n",
       "</div>"
      ],
      "text/plain": [
       "     recency (months)  frequency (times)  monetary (c.c. blood)  time (months)\n",
       "554                 2                  4                   1000             23\n",
       "176                11                  4                   1000             16\n",
       "581                 2                  1                    250              2\n",
       "537                 2                  6                   1500             26\n",
       "695                17                  7                   1750             58"
      ]
     },
     "execution_count": 35,
     "metadata": {},
     "output_type": "execute_result"
    }
   ],
   "source": [
    "train_x.head()"
   ]
  },
  {
   "cell_type": "code",
   "execution_count": 36,
   "id": "fd1cdfba",
   "metadata": {},
   "outputs": [
    {
     "data": {
      "text/plain": [
       "(284, 4)"
      ]
     },
     "execution_count": 36,
     "metadata": {},
     "output_type": "execute_result"
    }
   ],
   "source": [
    "train_x.shape"
   ]
  },
  {
   "cell_type": "code",
   "execution_count": 37,
   "id": "b6e8437a",
   "metadata": {},
   "outputs": [
    {
     "data": {
      "text/html": [
       "<div>\n",
       "<style scoped>\n",
       "    .dataframe tbody tr th:only-of-type {\n",
       "        vertical-align: middle;\n",
       "    }\n",
       "\n",
       "    .dataframe tbody tr th {\n",
       "        vertical-align: top;\n",
       "    }\n",
       "\n",
       "    .dataframe thead th {\n",
       "        text-align: right;\n",
       "    }\n",
       "</style>\n",
       "<table border=\"1\" class=\"dataframe\">\n",
       "  <thead>\n",
       "    <tr style=\"text-align: right;\">\n",
       "      <th></th>\n",
       "      <th>recency (months)</th>\n",
       "      <th>frequency (times)</th>\n",
       "      <th>monetary (c.c. blood)</th>\n",
       "      <th>time (months)</th>\n",
       "    </tr>\n",
       "  </thead>\n",
       "  <tbody>\n",
       "    <tr>\n",
       "      <th>626</th>\n",
       "      <td>9</td>\n",
       "      <td>9</td>\n",
       "      <td>2250</td>\n",
       "      <td>54</td>\n",
       "    </tr>\n",
       "    <tr>\n",
       "      <th>118</th>\n",
       "      <td>1</td>\n",
       "      <td>7</td>\n",
       "      <td>1750</td>\n",
       "      <td>57</td>\n",
       "    </tr>\n",
       "    <tr>\n",
       "      <th>628</th>\n",
       "      <td>2</td>\n",
       "      <td>5</td>\n",
       "      <td>1250</td>\n",
       "      <td>63</td>\n",
       "    </tr>\n",
       "    <tr>\n",
       "      <th>156</th>\n",
       "      <td>2</td>\n",
       "      <td>1</td>\n",
       "      <td>250</td>\n",
       "      <td>2</td>\n",
       "    </tr>\n",
       "    <tr>\n",
       "      <th>677</th>\n",
       "      <td>23</td>\n",
       "      <td>19</td>\n",
       "      <td>4750</td>\n",
       "      <td>62</td>\n",
       "    </tr>\n",
       "  </tbody>\n",
       "</table>\n",
       "</div>"
      ],
      "text/plain": [
       "     recency (months)  frequency (times)  monetary (c.c. blood)  time (months)\n",
       "626                 9                  9                   2250             54\n",
       "118                 1                  7                   1750             57\n",
       "628                 2                  5                   1250             63\n",
       "156                 2                  1                    250              2\n",
       "677                23                 19                   4750             62"
      ]
     },
     "execution_count": 37,
     "metadata": {},
     "output_type": "execute_result"
    }
   ],
   "source": [
    "test_x.head()"
   ]
  },
  {
   "cell_type": "code",
   "execution_count": 38,
   "id": "b6636cf9",
   "metadata": {},
   "outputs": [
    {
     "data": {
      "text/plain": [
       "(72, 4)"
      ]
     },
     "execution_count": 38,
     "metadata": {},
     "output_type": "execute_result"
    }
   ],
   "source": [
    "test_x.shape"
   ]
  },
  {
   "cell_type": "code",
   "execution_count": 39,
   "id": "2e5cc604",
   "metadata": {},
   "outputs": [],
   "source": [
    "from sklearn.linear_model import LogisticRegression\n",
    "from sklearn.tree import DecisionTreeClassifier\n",
    "from sklearn.neighbors import KNeighborsClassifier\n",
    "from sklearn.ensemble import RandomForestClassifier\n",
    "from sklearn import svm\n",
    "from sklearn import metrics"
   ]
  },
  {
   "cell_type": "code",
   "execution_count": 40,
   "id": "9d9170d1",
   "metadata": {},
   "outputs": [
    {
     "name": "stdout",
     "output_type": "stream",
     "text": [
      "\n",
      "Accuracy: 0.71\n"
     ]
    }
   ],
   "source": [
    "lr = LogisticRegression()\n",
    "lr.fit(train_x,train_y)\n",
    "prediction = lr.predict(test_x)\n",
    "print(f'\\nAccuracy: {metrics.accuracy_score(prediction,test_y):.2f}')"
   ]
  },
  {
   "cell_type": "code",
   "execution_count": 41,
   "id": "c83b4328",
   "metadata": {},
   "outputs": [
    {
     "name": "stdout",
     "output_type": "stream",
     "text": [
      "\n",
      "Accuracy: 0.62\n"
     ]
    }
   ],
   "source": [
    "kn = KNeighborsClassifier(n_neighbors=5)\n",
    "kn.fit(train_x,train_y)\n",
    "y_pred2 = kn.predict(test_x)\n",
    "print(f'\\nAccuracy: {metrics.accuracy_score(test_y,y_pred2):.2f}')"
   ]
  },
  {
   "cell_type": "code",
   "execution_count": 42,
   "id": "13bfb3ed",
   "metadata": {},
   "outputs": [
    {
     "name": "stdout",
     "output_type": "stream",
     "text": [
      "\n",
      "Accuracy: 0.67\n"
     ]
    }
   ],
   "source": [
    "dt = DecisionTreeClassifier()\n",
    "dt.fit(train_x,train_y)\n",
    "y_pred3 = dt.predict(test_x)\n",
    "print(f'\\nAccuracy: {metrics.accuracy_score(test_y,y_pred3):.2f}')"
   ]
  },
  {
   "cell_type": "code",
   "execution_count": 43,
   "id": "80cbf85d",
   "metadata": {},
   "outputs": [
    {
     "name": "stdout",
     "output_type": "stream",
     "text": [
      "\n",
      "Accuracy: 0.68\n"
     ]
    }
   ],
   "source": [
    "rf = RandomForestClassifier(n_estimators=5, random_state=7)\n",
    "rf.fit(train_x,train_y)\n",
    "y_pred4 = rf.predict(test_x)\n",
    "print(f'\\nAccuracy: {metrics.accuracy_score(test_y, y_pred4):.2f}')"
   ]
  },
  {
   "cell_type": "code",
   "execution_count": 44,
   "id": "256de2d2",
   "metadata": {},
   "outputs": [],
   "source": [
    "#from sklearn.utils import resample\n",
    "\n",
    "#df_majority = df[df.target==1]\n",
    "#df_minority = df[df.target==0]\n",
    "\n",
    "## downsample majority class\n",
    "#df_majority_downsampled = resample(df_majority, replace=True, n_samples=570, random_state=42)\n",
    "\n",
    "## combine majority class with upsampled minority class\n",
    "#df = pd.concat([df_minority, df_majority_downsampled])\n",
    "\n",
    "## shuffle the dataset to prevent getting similar samples\n",
    "#df = df.sample(frac=1, random_state=0)\n",
    "\n",
    "#print(df.target.value_counts())\n",
    "#df.target.value_counts().plot(kind='bar')\n",
    "\n",
    "\n",
    "\n",
    "##0    570\n",
    "##1    570"
   ]
  },
  {
   "cell_type": "code",
   "execution_count": 45,
   "id": "e75733bc",
   "metadata": {},
   "outputs": [],
   "source": [
    "#from sklearn.model_selection import train_test_split\n",
    "#train,test = train_test_split(df, test_size = 0.2, random_state=42)\n",
    "#train_x=train[['recency (months)','frequency (times)','monetary (c.c. blood)','time (months)']]\n",
    "#train_y=train.target\n",
    "#test_x=test[['recency (months)','frequency (times)','monetary (c.c. blood)','time (months)']]\n",
    "#test_y=test.target"
   ]
  },
  {
   "cell_type": "code",
   "execution_count": 46,
   "id": "438ace27",
   "metadata": {},
   "outputs": [],
   "source": [
    "#lr = LogisticRegression()\n",
    "#lr.fit(train_x,train_y)\n",
    "#prediction = lr.predict(test_x)\n",
    "#print(f'\\nAccuracy: {metrics.accuracy_score(prediction,test_y):.2f}')\n",
    "\n",
    "\n",
    "#Accuracy: 0.67"
   ]
  },
  {
   "cell_type": "code",
   "execution_count": 47,
   "id": "4d337581",
   "metadata": {},
   "outputs": [],
   "source": [
    "#kn = KNeighborsClassifier(n_neighbors=5)\n",
    "#kn.fit(train_x,train_y)\n",
    "#y_pred2 = kn.predict(test_x)\n",
    "#print(f'\\nAccuracy: {metrics.accuracy_score(test_y,y_pred2):.2f}')\n",
    "\n",
    "\n",
    "#Accuracy: 0.69"
   ]
  },
  {
   "cell_type": "code",
   "execution_count": 48,
   "id": "8952d68e",
   "metadata": {},
   "outputs": [],
   "source": [
    "#dt = DecisionTreeClassifier()\n",
    "#dt.fit(train_x,train_y)\n",
    "#y_pred3 = dt.predict(test_x)\n",
    "#print(f'\\nAccuracy: {metrics.accuracy_score(test_y,y_pred3):.2f}')\n",
    "\n",
    "\n",
    "#Accuracy: 0.82"
   ]
  },
  {
   "cell_type": "code",
   "execution_count": 49,
   "id": "7eaf840c",
   "metadata": {},
   "outputs": [],
   "source": [
    "#rf = RandomForestClassifier(n_estimators=5, random_state=7)\n",
    "#rf.fit(train_x,train_y)\n",
    "#y_pred4 = rf.predict(test_x)\n",
    "#print(f'\\nAccuracy: {metrics.accuracy_score(test_y, y_pred4):.2f}')\n",
    "\n",
    "\n",
    "\n",
    "\n",
    "#Accuracy: 0.81"
   ]
  },
  {
   "cell_type": "code",
   "execution_count": 50,
   "id": "3bf21c59",
   "metadata": {},
   "outputs": [
    {
     "data": {
      "text/plain": [
       "LogisticRegression()"
      ]
     },
     "execution_count": 50,
     "metadata": {},
     "output_type": "execute_result"
    }
   ],
   "source": [
    "lr = LogisticRegression()\n",
    "lr.fit(train_x,train_y)"
   ]
  },
  {
   "cell_type": "code",
   "execution_count": 51,
   "id": "232f3b47",
   "metadata": {},
   "outputs": [
    {
     "name": "stdout",
     "output_type": "stream",
     "text": [
      "Prediction: [0]\n"
     ]
    }
   ],
   "source": [
    "x_new = np.array([[23, 1, 250, 23]])\n",
    "prediction = lr.predict(x_new)\n",
    "print(\"Prediction: {}\".format(prediction))"
   ]
  },
  {
   "cell_type": "code",
   "execution_count": 52,
   "id": "ae1b1b8a",
   "metadata": {},
   "outputs": [
    {
     "name": "stdout",
     "output_type": "stream",
     "text": [
      "Prediction: [1]\n"
     ]
    }
   ],
   "source": [
    "x_new = np.array([[2, 50, 12500, 98]])\n",
    "prediction = lr.predict(x_new)\n",
    "print(\"Prediction: {}\".format(prediction))"
   ]
  },
  {
   "cell_type": "markdown",
   "id": "80506d90",
   "metadata": {},
   "source": [
    "## Check for variance"
   ]
  },
  {
   "cell_type": "markdown",
   "id": "cfa14398",
   "metadata": {},
   "source": [
    "If the attributes in our dataset are more greater than the other attribute, then it will affect the models ability to learn from the other attributes"
   ]
  },
  {
   "cell_type": "code",
   "execution_count": 35,
   "id": "97abd08f",
   "metadata": {},
   "outputs": [
    {
     "data": {
      "text/plain": [
       "recency (months)              51.22\n",
       "frequency (times)             47.09\n",
       "monetary (c.c. blood)    2943098.19\n",
       "time (months)                629.11\n",
       "dtype: float64"
      ]
     },
     "execution_count": 35,
     "metadata": {},
     "output_type": "execute_result"
    }
   ],
   "source": [
    "train_x.var().round(2)"
   ]
  },
  {
   "cell_type": "markdown",
   "id": "bb044fc0",
   "metadata": {},
   "source": [
    "## Applying normalization"
   ]
  },
  {
   "cell_type": "markdown",
   "id": "4d3b1f12",
   "metadata": {},
   "source": [
    "correcting this high differnce is called normaliztion. it should be done before training the model otherwise the attribute may get more importance by the model."
   ]
  },
  {
   "cell_type": "code",
   "execution_count": 36,
   "id": "b5681b4b",
   "metadata": {},
   "outputs": [
    {
     "data": {
      "text/plain": [
       "recency (months)      51.22\n",
       "frequency (times)     47.09\n",
       "time (months)        629.11\n",
       "monetary_log           0.84\n",
       "dtype: float64"
      ]
     },
     "execution_count": 36,
     "metadata": {},
     "output_type": "execute_result"
    }
   ],
   "source": [
    "train_x_normed, test_x_normed = train_x.copy(), test_x.copy()\n",
    "col_to_normalize = 'monetary (c.c. blood)'\n",
    "for df_ in [train_x_normed, test_x_normed]:\n",
    "    df_['monetary_log'] = np.log(df_[col_to_normalize])\n",
    "    df_.drop(columns = col_to_normalize, inplace=True)\n",
    "    \n",
    "train_x_normed.var().round(2)"
   ]
  },
  {
   "cell_type": "code",
   "execution_count": 37,
   "id": "243b3302",
   "metadata": {},
   "outputs": [],
   "source": [
    "from sklearn.linear_model import LogisticRegression\n",
    "from sklearn.tree import DecisionTreeClassifier\n",
    "from sklearn.neighbors import KNeighborsClassifier\n",
    "from sklearn.ensemble import RandomForestClassifier\n",
    "from sklearn import svm\n",
    "from sklearn import metrics"
   ]
  },
  {
   "cell_type": "markdown",
   "id": "73db11aa",
   "metadata": {},
   "source": [
    "#### After Normalization"
   ]
  },
  {
   "cell_type": "code",
   "execution_count": 38,
   "id": "372881fa",
   "metadata": {},
   "outputs": [
    {
     "name": "stdout",
     "output_type": "stream",
     "text": [
      "\n",
      "Accuracy: 0.69\n"
     ]
    }
   ],
   "source": [
    "lr = LogisticRegression()\n",
    "lr.fit(train_x_normed,train_y)\n",
    "prediction = lr.predict(test_x_normed)\n",
    "print(f'\\nAccuracy: {metrics.accuracy_score(test_y,prediction):.2f}')"
   ]
  },
  {
   "cell_type": "code",
   "execution_count": 39,
   "id": "be076711",
   "metadata": {},
   "outputs": [
    {
     "name": "stdout",
     "output_type": "stream",
     "text": [
      "\n",
      "Accuracy: 0.67\n"
     ]
    }
   ],
   "source": [
    "kn = KNeighborsClassifier(n_neighbors=5)\n",
    "kn.fit(train_x_normed,train_y)\n",
    "y_pred2 = kn.predict(test_x_normed)\n",
    "print(f'\\nAccuracy: {metrics.accuracy_score(test_y,y_pred2):.2f}')"
   ]
  },
  {
   "cell_type": "code",
   "execution_count": 40,
   "id": "d28b59e9",
   "metadata": {},
   "outputs": [
    {
     "name": "stdout",
     "output_type": "stream",
     "text": [
      "\n",
      "Accuracy: 0.69\n"
     ]
    }
   ],
   "source": [
    "dt = DecisionTreeClassifier()\n",
    "dt.fit(train_x_normed,train_y)\n",
    "y_pred3 = dt.predict(test_x_normed)\n",
    "print(f'\\nAccuracy: {metrics.accuracy_score(test_y,y_pred3):.2f}')"
   ]
  },
  {
   "cell_type": "code",
   "execution_count": 41,
   "id": "2d030aef",
   "metadata": {},
   "outputs": [
    {
     "name": "stdout",
     "output_type": "stream",
     "text": [
      "\n",
      "Accuracy: 0.71\n"
     ]
    }
   ],
   "source": [
    "rf = RandomForestClassifier(n_estimators=5, random_state=7)\n",
    "rf.fit(train_x_normed,train_y)\n",
    "y_pred4 = rf.predict(test_x_normed)\n",
    "print(f'\\nAccuracy: {metrics.accuracy_score(test_y, y_pred4):.2f}')"
   ]
  },
  {
   "cell_type": "code",
   "execution_count": 42,
   "id": "54c0496f",
   "metadata": {},
   "outputs": [
    {
     "data": {
      "text/plain": [
       "RandomForestClassifier()"
      ]
     },
     "execution_count": 42,
     "metadata": {},
     "output_type": "execute_result"
    }
   ],
   "source": [
    "rf = RandomForestClassifier()\n",
    "rf.fit(train_x_normed,train_y)"
   ]
  },
  {
   "cell_type": "code",
   "execution_count": 43,
   "id": "8cb4d215",
   "metadata": {},
   "outputs": [
    {
     "name": "stdout",
     "output_type": "stream",
     "text": [
      "Prediction: [0]\n"
     ]
    }
   ],
   "source": [
    "x_new = np.array([[23, 1, 250, 23]])\n",
    "prediction = rf.predict(x_new)\n",
    "print(\"Prediction: {}\".format(prediction))"
   ]
  },
  {
   "cell_type": "code",
   "execution_count": 44,
   "id": "0bb23987",
   "metadata": {},
   "outputs": [
    {
     "name": "stdout",
     "output_type": "stream",
     "text": [
      "Prediction: [1]\n"
     ]
    }
   ],
   "source": [
    "x_new = np.array([[2, 50, 12500, 98]])\n",
    "prediction = rf.predict(x_new)\n",
    "print(\"Prediction: {}\".format(prediction))"
   ]
  },
  {
   "cell_type": "code",
   "execution_count": null,
   "id": "c457b3c9",
   "metadata": {},
   "outputs": [],
   "source": []
  },
  {
   "cell_type": "markdown",
   "id": "5747f9a6",
   "metadata": {},
   "source": [
    "### Accuracy of different models\n",
    "\n",
    "#### Logistic regression accuracy: 0.76\n",
    "#### K-Neighbor accuracy: 0.77\n",
    "#### Decision tree accuracy: 0.66\n",
    "#### Random forest accuracy: 0.73\n",
    "\n",
    "### Accuracy of different models after resampling\n",
    "\n",
    "#### Logistic regression accuracy: 0.71\n",
    "#### K-Neighbor accuracy: 0.62\n",
    "#### Decision tree accuracy: 0.67\n",
    "#### Random forest accuracy: 0.68\n",
    "\n",
    "### Accuracy of different models after resampling and normalization\n",
    "\n",
    "#### Logistic regression accuracy: 0.69\n",
    "#### K-Neighbor accuracy: 0.67\n",
    "#### Decision tree accuracy: 0.69\n",
    "#### Random forest accuracy: 0.71\n"
   ]
  },
  {
   "cell_type": "code",
   "execution_count": null,
   "id": "77801459",
   "metadata": {},
   "outputs": [],
   "source": []
  },
  {
   "cell_type": "code",
   "execution_count": null,
   "id": "e5b6475c",
   "metadata": {},
   "outputs": [],
   "source": []
  }
 ],
 "metadata": {
  "kernelspec": {
   "display_name": "Python 3",
   "language": "python",
   "name": "python3"
  },
  "language_info": {
   "codemirror_mode": {
    "name": "ipython",
    "version": 3
   },
   "file_extension": ".py",
   "mimetype": "text/x-python",
   "name": "python",
   "nbconvert_exporter": "python",
   "pygments_lexer": "ipython3",
   "version": "3.8.8"
  }
 },
 "nbformat": 4,
 "nbformat_minor": 5
}
